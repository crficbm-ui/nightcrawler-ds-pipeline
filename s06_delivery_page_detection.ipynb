{
 "cells": [
  {
   "cell_type": "markdown",
   "metadata": {},
   "source": [
    "# Imports"
   ]
  },
  {
   "cell_type": "code",
   "execution_count": 1,
   "metadata": {},
   "outputs": [],
   "source": [
    "%load_ext autoreload\n",
    "%autoreload 2"
   ]
  },
  {
   "cell_type": "code",
   "execution_count": 2,
   "metadata": {},
   "outputs": [
    {
     "name": "stdout",
     "output_type": "stream",
     "text": [
      "/work/nightcrawler-ds-pipeline\n"
     ]
    }
   ],
   "source": [
    "import os\n",
    "print(os.getcwd())\n",
    "# os.chdir(\"../../\")\n",
    "# print(os.getcwd())"
   ]
  },
  {
   "cell_type": "code",
   "execution_count": 3,
   "metadata": {},
   "outputs": [
    {
     "name": "stdout",
     "output_type": "stream",
     "text": [
      "['/root/.pyenv/versions/3.10.14/lib/python310.zip', '/root/.pyenv/versions/3.10.14/lib/python3.10', '/root/.pyenv/versions/3.10.14/lib/python3.10/lib-dynload', '', '/root/.pyenv/versions/env_nw_country_filtering_pipeline/lib/python3.10/site-packages', '/work/nightcrawler-ds-helpers', '/work/nightcrawler-ds-pipeline']\n"
     ]
    }
   ],
   "source": [
    "import sys\n",
    "# sys.path.pop()\n",
    "# sys.path.append('/work/nightcrawler-ds-pipeline')\n",
    "print(sys.path)"
   ]
  },
  {
   "cell_type": "markdown",
   "metadata": {},
   "source": [
    "# Main"
   ]
  },
  {
   "cell_type": "markdown",
   "metadata": {},
   "source": [
    "## Country filterer"
   ]
  },
  {
   "cell_type": "markdown",
   "metadata": {},
   "source": [
    "### Settings"
   ]
  },
  {
   "cell_type": "code",
   "execution_count": 4,
   "metadata": {},
   "outputs": [
    {
     "name": "stderr",
     "output_type": "stream",
     "text": [
      "[nltk_data] Downloading package punkt to /root/nltk_data...\n",
      "[nltk_data]   Package punkt is already up-to-date!\n",
      "[nltk_data] Downloading package stopwords to /root/nltk_data...\n",
      "[nltk_data]   Package stopwords is already up-to-date!\n",
      "[nltk_data] Downloading package punkt_tab to /root/nltk_data...\n",
      "[nltk_data]   Package punkt_tab is already up-to-date!\n"
     ]
    }
   ],
   "source": [
    "import time\n",
    "\n",
    "from nightcrawler.process.s05_country_filterer import MasterCountryFilterer\n",
    "from helpers.settings import Settings\n",
    "\n",
    "SETTINGS = Settings().country_filtering\n",
    "DEFAULT_CONFIG = SETTINGS.config\n",
    "DEFAULT_CONFIG_URL_FILTERER = SETTINGS.config_url_filterer"
   ]
  },
  {
   "cell_type": "markdown",
   "metadata": {},
   "source": [
    "### Dataset"
   ]
  },
  {
   "cell_type": "code",
   "execution_count": 5,
   "metadata": {},
   "outputs": [
    {
     "data": {
      "text/html": [
       "<div>\n",
       "<style scoped>\n",
       "    .dataframe tbody tr th:only-of-type {\n",
       "        vertical-align: middle;\n",
       "    }\n",
       "\n",
       "    .dataframe tbody tr th {\n",
       "        vertical-align: top;\n",
       "    }\n",
       "\n",
       "    .dataframe thead th {\n",
       "        text-align: right;\n",
       "    }\n",
       "</style>\n",
       "<table border=\"1\" class=\"dataframe\">\n",
       "  <thead>\n",
       "    <tr style=\"text-align: right;\">\n",
       "      <th></th>\n",
       "      <th>idx</th>\n",
       "      <th>keywordQuery</th>\n",
       "      <th>platform</th>\n",
       "      <th>offerRoot</th>\n",
       "      <th>page_url</th>\n",
       "      <th>source</th>\n",
       "      <th>source_nb_rows</th>\n",
       "      <th>page_status</th>\n",
       "      <th>page_type</th>\n",
       "      <th>product_domain</th>\n",
       "      <th>...</th>\n",
       "      <th>offerPrice</th>\n",
       "      <th>title</th>\n",
       "      <th>specs</th>\n",
       "      <th>humanLanguage</th>\n",
       "      <th>crawledAt</th>\n",
       "      <th>productOrigin</th>\n",
       "      <th>keywordType</th>\n",
       "      <th>offerUid</th>\n",
       "      <th>matchImageUrl</th>\n",
       "      <th>domain</th>\n",
       "    </tr>\n",
       "  </thead>\n",
       "  <tbody>\n",
       "    <tr>\n",
       "      <th>0</th>\n",
       "      <td>70.0</td>\n",
       "      <td>\"Masushita Bang Bang Strongman\"</td>\n",
       "      <td>google.ch</td>\n",
       "      <td>GOOGLE_SHOPPING</td>\n",
       "      <td>https://www.ebay.co.uk/itm/175973641605?chn=ps...</td>\n",
       "      <td>ebay.co.uk</td>\n",
       "      <td>2440</td>\n",
       "      <td>found</td>\n",
       "      <td>ecommerce_product</td>\n",
       "      <td>other</td>\n",
       "      <td>...</td>\n",
       "      <td>£25.00</td>\n",
       "      <td>One Punch Man Tatsumaki Figure Relax Time Banp...</td>\n",
       "      <td>{'condition': \"New: A brand-new, unused, unope...</td>\n",
       "      <td>en</td>\n",
       "      <td>2024-03-03T02:28:47+00:00</td>\n",
       "      <td>NaN</td>\n",
       "      <td>text</td>\n",
       "      <td>22bf808f69c6ed5f119501dadf42f190</td>\n",
       "      <td>NaN</td>\n",
       "      <td>www.ebay.co.uk</td>\n",
       "    </tr>\n",
       "  </tbody>\n",
       "</table>\n",
       "<p>1 rows × 34 columns</p>\n",
       "</div>"
      ],
      "text/plain": [
       "    idx                     keywordQuery   platform        offerRoot  \\\n",
       "0  70.0  \"Masushita Bang Bang Strongman\"  google.ch  GOOGLE_SHOPPING   \n",
       "\n",
       "                                            page_url      source  \\\n",
       "0  https://www.ebay.co.uk/itm/175973641605?chn=ps...  ebay.co.uk   \n",
       "\n",
       "   source_nb_rows page_status          page_type product_domain  ...  \\\n",
       "0            2440       found  ecommerce_product          other  ...   \n",
       "\n",
       "  offerPrice                                              title  \\\n",
       "0     £25.00  One Punch Man Tatsumaki Figure Relax Time Banp...   \n",
       "\n",
       "                                               specs humanLanguage  \\\n",
       "0  {'condition': \"New: A brand-new, unused, unope...            en   \n",
       "\n",
       "                   crawledAt productOrigin keywordType  \\\n",
       "0  2024-03-03T02:28:47+00:00           NaN        text   \n",
       "\n",
       "                           offerUid matchImageUrl          domain  \n",
       "0  22bf808f69c6ed5f119501dadf42f190           NaN  www.ebay.co.uk  \n",
       "\n",
       "[1 rows x 34 columns]"
      ]
     },
     "metadata": {},
     "output_type": "display_data"
    }
   ],
   "source": [
    "from helpers import utils_io\n",
    "\n",
    "blob_2024_top_domain_raw = utils_io.load_dataset(path_data=\"/work/medicrawl-data-science/datasets/004_country_filtering/data\", \n",
    "                                                 country=\"ch/blob_2024_dataset\", \n",
    "                                                 file_name=\"blob_2024_top_domain_raw\")\n",
    "# blob_2024_top_domain_raw = pd.read_csv(\"/work/medicrawl-data-science/datasets/004_country_filtering/data/ch/blob_2024_dataset/blob_2024_top_domain_raw.csv\")\n",
    "blob_2024_top_domain_raw.rename(columns={\"pageUrl\": \"page_url\"}, inplace=True)\n",
    "display(blob_2024_top_domain_raw.head(1))"
   ]
  },
  {
   "cell_type": "markdown",
   "metadata": {},
   "source": [
    "### Perform filtering"
   ]
  },
  {
   "cell_type": "code",
   "execution_count": 6,
   "metadata": {},
   "outputs": [
    {
     "name": "stderr",
     "output_type": "stream",
     "text": [
      "100%|██████████| 73/73 [00:00<00:00, 2931.62it/s]\n"
     ]
    },
    {
     "data": {
      "text/html": [
       "<div>\n",
       "<style scoped>\n",
       "    .dataframe tbody tr th:only-of-type {\n",
       "        vertical-align: middle;\n",
       "    }\n",
       "\n",
       "    .dataframe tbody tr th {\n",
       "        vertical-align: top;\n",
       "    }\n",
       "\n",
       "    .dataframe thead th {\n",
       "        text-align: right;\n",
       "    }\n",
       "</style>\n",
       "<table border=\"1\" class=\"dataframe\">\n",
       "  <thead>\n",
       "    <tr style=\"text-align: right;\">\n",
       "      <th></th>\n",
       "      <th>idx</th>\n",
       "      <th>keywordQuery</th>\n",
       "      <th>platform</th>\n",
       "      <th>offerRoot</th>\n",
       "      <th>page_url</th>\n",
       "      <th>source</th>\n",
       "      <th>source_nb_rows</th>\n",
       "      <th>page_status</th>\n",
       "      <th>page_type</th>\n",
       "      <th>product_domain</th>\n",
       "      <th>...</th>\n",
       "      <th>filterer_name</th>\n",
       "      <th>index</th>\n",
       "      <th>url_shipping_policy_page</th>\n",
       "      <th>button_words_shipping_policy_page</th>\n",
       "      <th>keywords_in_shipping_policy_page</th>\n",
       "      <th>shipping_policy_page_information_detail</th>\n",
       "      <th>shipping_policy_page_comment</th>\n",
       "      <th>productOrigin</th>\n",
       "      <th>2_keywords_in_shipping_policy_page</th>\n",
       "      <th>time_elapsed</th>\n",
       "    </tr>\n",
       "  </thead>\n",
       "  <tbody>\n",
       "    <tr>\n",
       "      <th>0</th>\n",
       "      <td>70.0</td>\n",
       "      <td>\"Masushita Bang Bang Strongman\"</td>\n",
       "      <td>google.ch</td>\n",
       "      <td>GOOGLE_SHOPPING</td>\n",
       "      <td>https://www.ebay.co.uk/itm/175973641605?chn=ps...</td>\n",
       "      <td>ebay.co.uk</td>\n",
       "      <td>2440</td>\n",
       "      <td>found</td>\n",
       "      <td>ecommerce_product</td>\n",
       "      <td>other</td>\n",
       "      <td>...</td>\n",
       "      <td>unknown</td>\n",
       "      <td>0</td>\n",
       "      <td>NaN</td>\n",
       "      <td>NaN</td>\n",
       "      <td>NaN</td>\n",
       "      <td>NaN</td>\n",
       "      <td>NaN</td>\n",
       "      <td>NaN</td>\n",
       "      <td>NaN</td>\n",
       "      <td>0.039088</td>\n",
       "    </tr>\n",
       "  </tbody>\n",
       "</table>\n",
       "<p>1 rows × 37 columns</p>\n",
       "</div>"
      ],
      "text/plain": [
       "    idx                     keywordQuery   platform        offerRoot  \\\n",
       "0  70.0  \"Masushita Bang Bang Strongman\"  google.ch  GOOGLE_SHOPPING   \n",
       "\n",
       "                                            page_url      source  \\\n",
       "0  https://www.ebay.co.uk/itm/175973641605?chn=ps...  ebay.co.uk   \n",
       "\n",
       "   source_nb_rows page_status          page_type product_domain  ...  \\\n",
       "0            2440       found  ecommerce_product          other  ...   \n",
       "\n",
       "  filterer_name index url_shipping_policy_page  \\\n",
       "0       unknown     0                      NaN   \n",
       "\n",
       "  button_words_shipping_policy_page keywords_in_shipping_policy_page  \\\n",
       "0                               NaN                              NaN   \n",
       "\n",
       "  shipping_policy_page_information_detail shipping_policy_page_comment  \\\n",
       "0                                     NaN                          NaN   \n",
       "\n",
       "  productOrigin 2_keywords_in_shipping_policy_page time_elapsed  \n",
       "0           NaN                                NaN     0.039088  \n",
       "\n",
       "[1 rows x 37 columns]"
      ]
     },
     "metadata": {},
     "output_type": "display_data"
    },
    {
     "name": "stdout",
     "output_type": "stream",
     "text": [
      "filterer_name\n",
      "unknown    60\n",
      "url        13\n",
      "Name: count, dtype: int64\n"
     ]
    }
   ],
   "source": [
    "# Instantiate filterer\n",
    "filterer = MasterCountryFilterer(\n",
    "    filterer_name=DEFAULT_CONFIG[\"FILTERER_NAME\"],\n",
    "    country=DEFAULT_CONFIG[\"COUNTRY\"],\n",
    "    config=DEFAULT_CONFIG,\n",
    "    config_filterer=DEFAULT_CONFIG_URL_FILTERER\n",
    ")\n",
    "\n",
    "# Perform filtering\n",
    "time_start = time.time()\n",
    "blob_2024_top_domain_raw_cf = filterer.perform_filtering(blob_2024_top_domain_raw)\n",
    "time_end = time.time()\n",
    "\n",
    "# Compute time elapsed\n",
    "blob_2024_top_domain_raw_cf[\"time_elapsed\"] = time_end - time_start\n",
    "display(blob_2024_top_domain_raw_cf.head(1))\n",
    "print(blob_2024_top_domain_raw_cf.filterer_name.value_counts())"
   ]
  },
  {
   "cell_type": "markdown",
   "metadata": {},
   "source": [
    "## DeliveryPolicyExtractor"
   ]
  },
  {
   "cell_type": "markdown",
   "metadata": {},
   "source": [
    "### Settings"
   ]
  },
  {
   "cell_type": "code",
   "execution_count": 7,
   "metadata": {},
   "outputs": [
    {
     "name": "stderr",
     "output_type": "stream",
     "text": [
      "[nltk_data] Downloading package punkt to /root/nltk_data...\n",
      "[nltk_data]   Package punkt is already up-to-date!\n",
      "[nltk_data] Downloading package stopwords to /root/nltk_data...\n",
      "[nltk_data]   Package stopwords is already up-to-date!\n",
      "[nltk_data] Downloading package punkt_tab to /root/nltk_data...\n",
      "[nltk_data]   Package punkt_tab is already up-to-date!\n"
     ]
    }
   ],
   "source": [
    "from nightcrawler.process.s06_delivery_page_detection import ShippingPolicyFilterer\n",
    "from helpers.settings import Settings\n",
    "from helpers.api.llm_apis import MistralAPI\n",
    "from helpers.api.zyte_api import ZyteAPI\n",
    "\n",
    "SETTINGS = Settings().delivery_policy\n",
    "DEFAULT_CONFIG = SETTINGS.config\n",
    "DEFAULT_CONFIG_FILTERER = SETTINGS.config_filterer"
   ]
  },
  {
   "cell_type": "markdown",
   "metadata": {},
   "source": [
    "### Dataset"
   ]
  },
  {
   "cell_type": "code",
   "execution_count": 8,
   "metadata": {},
   "outputs": [],
   "source": [
    "# print(blob_2024_top_domain_raw_cf.columns)"
   ]
  },
  {
   "cell_type": "code",
   "execution_count": 9,
   "metadata": {},
   "outputs": [],
   "source": [
    "blob_2024_top_domain_raw_cf = blob_2024_top_domain_raw_cf[\n",
    "    [\"page_url\", \"domain\", \"filterer_name\", \"RESULT\", \"shipping_in_swiss\"]]"
   ]
  },
  {
   "cell_type": "markdown",
   "metadata": {},
   "source": [
    "### Perform filtering"
   ]
  },
  {
   "cell_type": "code",
   "execution_count": 10,
   "metadata": {},
   "outputs": [
    {
     "name": "stderr",
     "output_type": "stream",
     "text": [
      "2024-10-18T10:30:08.029 | nightcrawler_logger | INFO | Domain www.ebay.co.uk labeled by hand as positive\n"
     ]
    },
    {
     "name": "stderr",
     "output_type": "stream",
     "text": [
      "2024-10-18T10:30:08.030 | nightcrawler_logger | INFO | Domain www.ebay.de labeled by hand as positive\n",
      "2024-10-18T10:30:08.031 | nightcrawler_logger | INFO | Domain www.herbkart.com labeled by hand as positive\n",
      "2024-10-18T10:30:08.033 | nightcrawler_logger | INFO | Extracting html content of \n",
      "the page https://www.gosupps.com/everlong-detox-tea-v2-0-enhanced-28-day-ultimate-teatox-morning-boost-night-cleanse-burn-fat-reduce-bloating-accelerate-weight-loss-comprehensive-solution-to-regenerate-your-body-in-natural-way.html?srsltid=AfmBOorrXfXboevSiZ7aV-p5CtpaIEBxBy-MrHPxW1VGc8Z4Aw_9L4X0RxQ \n",
      "with domain www.gosupps.com\n",
      "2024-10-18T10:30:08.034 | nightcrawler_logger | INFO | Domain www.hood.de labeled by hand as positive\n",
      "2024-10-18T10:30:08.034 | nightcrawler_logger | INFO | Domain www.ebay.com labeled by hand as positive\n",
      "2024-10-18T10:30:08.035 | nightcrawler_logger | INFO | Extracting html content of \n",
      "the page https://www.farmae.de/kaffee-reishi-bio-250g-924824992.html?srsltid=AfmBOoo7A-E_tqcc3MNUMqD9MZpDxiWuoRhAcF_mfAkuiLJbctYADo3S5nE \n",
      "with domain www.farmae.de\n",
      "2024-10-18T10:30:08.036 | nightcrawler_logger | INFO | Extracting html content of \n",
      "the page https://www.petersberg-apotheke.de/aquacel-foam-n-adh-10x20cm-a10818322.html?p=gs_prodlink \n",
      "with domain www.petersberg-apotheke.de\n",
      "2024-10-18T10:30:08.037 | nightcrawler_logger | INFO | Extracting html content of \n",
      "the page https://www.apohealth.de/products/aquacel-foam-nicht-adhasiv-15x15-cm-verband-5-st-ver?srsltid=AfmBOoq1n96eWthZtgBtjfi19BPkPaHGSO_3VOxEkAaJ6wBnsb1QLMqDlbA&shpxid=05ee67f3-ae40-4521-8f52-1dc04ca6f457 \n",
      "with domain www.apohealth.de\n",
      "2024-10-18T10:30:08.038 | nightcrawler_logger | INFO | Extracting html content of \n",
      "the page https://mcgrocer.com/products/bootea-28-day-teatox?currency=GBP&utm_medium=cpc&utm_source=google&utm_campaign=Google%2520Shopping&stkn=9bdd4526a2c2&srsltid=AfmBOopusIUKckefRiwf00nkgatdnMC_BHAH96kyXH6xdCZFQeRC4oh3_Go \n",
      "with domain mcgrocer.com\n",
      "2024-10-18T10:30:08.039 | nightcrawler_logger | INFO | Extracting html content of \n",
      "the page https://turkishsouq.com/products/splenda-sweetener-100-tablets-2?variant=42856110653679&country=IE&srsltid=AfmBOopg-jCe7ANVfwx1p7QUbfboHWwvW_qiFCdXis8KoDKx_eVkh-Ft8CA \n",
      "with domain turkishsouq.com\n",
      "2024-10-18T10:30:08.041 | nightcrawler_logger | INFO | Extracting html content of \n",
      "the page https://www.biolaboratorium.com/products/instant-kaffee-arabica-mit-reishi-pilz-und-maca-bio-100-g-ani?variant=44267337777447&currency=EUR&utm_source=google&utm_medium=organic&utm_campaign=German&utm_content=Instant-Kaffee%2520Arabica%2520mit%2520Reishi-Pilz%2520und%2520Maca%2520BIO%2520100%2520g%2520-%2520ANI&srsltid=AfmBOoqCu83dUd05ioGnqdCt9Z1TP45501Njm_SFufyy5NT9911Fd0RAaMo \n",
      "with domain www.biolaboratorium.com\n",
      "2024-10-18T10:30:08.041 | nightcrawler_logger | INFO | Extracting html content of \n",
      "the page https://www.counterapo.de/aquacel-foam-n-adh-20x20cm-a8999836.html?p=gs_prodlink \n",
      "with domain www.counterapo.de\n",
      "2024-10-18T10:30:08.041 | nightcrawler_logger | INFO | Using cached response for zyte\n",
      "2024-10-18T10:30:08.042 | nightcrawler_logger | INFO | Extracting html content of \n",
      "the page https://shahifeast.com/products/trexgenics-gaba-gamma-aminobutyric-aicd-500-mg-pyridoxal-5-phosphate-1-mg-neurotransmitter-stress-sleep-support-vegan-non-gmo-60-veg-capsules-pack-of-2?currency=USD&variant=44502166733028&utm_medium=cpc&utm_source=google&utm_campaign=Google%20Shopping&stkn=b2ed978d1135&srsltid=AfmBOopjbl1rKhppLablDqCYHYZxwH4ZmrjXPW-5J60ikTkfLOKtiACWGXQ \n",
      "with domain shahifeast.com\n",
      "2024-10-18T10:30:08.044 | nightcrawler_logger | INFO | Extracting html content of \n",
      "the page https://first-medical-shop.de/verbandmittel/wundverband/sterile-wundverbaende/vliwasorb-pro-lohmann-rauscher-ssb-faehig.html?combi_id=1743393&srsltid=AfmBOopuFxu8pTj7kFNqLpIF7DfMUjUZD1dCV3iW7KKuVxqqL8LXMZr59FY \n",
      "with domain first-medical-shop.de\n",
      "2024-10-18T10:30:08.044 | nightcrawler_logger | INFO | Extracting html content of \n",
      "the page https://www.sunday.de/gruener-kaffee-pulver-bio-rohkost.html?srsltid=AfmBOopruHTDkfCfdiQBzdJpj2T9cxC4gBTZI7rEtzNlqPq8VXJeaWSAavM \n",
      "with domain www.sunday.de\n",
      "2024-10-18T10:30:08.045 | nightcrawler_logger | INFO | Extracting html content of \n",
      "the page https://www.medi-shop.gr/en/light-therapy-devices/bioptron-medall?srsltid=AfmBOooDYyw-ZT1DRRQWLMpDr8nhEFFtHUeg98QVf4kZtdaa66KGw2YLj8Q \n",
      "with domain www.medi-shop.gr\n",
      "2024-10-18T10:30:08.047 | nightcrawler_logger | INFO | Extracting html content of \n",
      "the page https://www.amazon.com/Mega-Man-Complete-Scott-McNeil/dp/B00M0JTYF6/ref=asc_df_B00M0JTYF6/?tag=hyprod-20&linkCode=df0&hvadid=312157417100&hvpos=&hvnetw=g&hvrand=2087573618504662047&hvpone=&hvptwo=&hvqmt=&hvdev=c&hvdvcmdl=&hvlocint=&hvlocphy=9003515&hvtargid=pla-435246014097&psc=1&mcid=a4a4d203c28634c88ecb80199c4332ee \n",
      "with domain www.amazon.com\n",
      "2024-10-18T10:30:08.047 | nightcrawler_logger | INFO | Extracting html content of \n",
      "the page https://www.ubuy.ie/en/product/F12RC2V2-60-sachets-bio-wellz-2-in-1-instant-coffee-superfood-extract-goji-eucommia-5-boxes-gano-excel-3-in-1?srsltid=AfmBOoqUgqOMn2YMC_5CKLQpYnccVbEtbEgP_96imLaS4AsR12OJoXhhPPg \n",
      "with domain www.ubuy.ie\n",
      "2024-10-18T10:30:08.048 | nightcrawler_logger | INFO | Extracting html content of \n",
      "the page https://www.herbspro.com/products/organic-everyday-detox-tea-lemon?variant=32875080777828&currency=USD&utm_medium=product_sync&utm_source=google&utm_content=sag_organic&utm_campaign=sag_organic&srsltid=AfmBOopBVVpftsNEoLzlCrI-LXP-gB-DeeTaVg5tnWmNf0NkcD5F2og2Oas \n",
      "with domain www.herbspro.com\n",
      "  0%|          | 0/73 [00:00<?, ?it/s]2024-10-18T10:30:08.049 | nightcrawler_logger | INFO | Domain www.inspireuplift.com labeled by hand as unknown\n",
      "2024-10-18T10:30:08.049 | nightcrawler_logger | INFO | Extracting html content of \n",
      "the page https://swadesii.com/products/hashmi-extreme-x-plus-capsules-20-capsules?currency=USD&variant=47385158582566&utm_medium=cpc&utm_source=google&utm_campaign=Google%2520Shopping&stkn=db2aaa11213d&srsltid=AfmBOoroU64Edj7OnOHvtwDu-7dgzDl2HGPkgCpwhsFZE7HbmQG2LLxRwNU \n",
      "with domain swadesii.com\n",
      "2024-10-18T10:30:08.050 | nightcrawler_logger | INFO | Domain stockx.com labeled by hand as unknown\n",
      "2024-10-18T10:30:08.051 | nightcrawler_logger | INFO | Extracting html content of \n",
      "the page https://www.cls-med.de/Green-Spring-SARS-CoV-2-Antigen-Test-25-Tests::24725.html?agi_country=206&srsltid=AfmBOop7ISUA4t6C_bnq7JELsvV5082QYKvIRZ09nFta5YAK-P10i-orRGc \n",
      "with domain www.cls-med.de\n",
      "2024-10-18T10:30:08.051 | nightcrawler_logger | INFO | Using cached response for zyte\n",
      "2024-10-18T10:30:08.053 | nightcrawler_logger | INFO | Extracting html content of \n",
      "the page https://www.asos.com/hollister/hollister-flutter-sleeve-skort-dress-in-cream-and-blue-floral-print/prd/206685922#colourWayId-206685923 \n",
      "with domain www.asos.com\n",
      "2024-10-18T10:30:08.054 | nightcrawler_logger | INFO | Using cached response for zyte\n",
      "2024-10-18T10:30:08.054 | nightcrawler_logger | INFO | Extracting html content of \n",
      "the page https://www.therawhoneyshop.com/products/raw-greek-forest-honey-from-mount-olympus-1kg-multi-award-winning?variant=43391714230507&currency=EUR&srsltid=AfmBOorCo6O5a0giBeD_HVOK5PBOI_W0zjJ9h-f2_8hcVW40SR0YMdbcV1g \n",
      "with domain www.therawhoneyshop.com\n",
      "2024-10-18T10:30:08.055 | nightcrawler_logger | INFO | Extracting html content of \n",
      "the page https://www.physiosupplies.de/medisana-mcg-820-comfort-shiatsu-acupressure-massage-seat-cover?channable=0580da69640032303431304e&srsltid=AfmBOopD1BiqNTnmc93XHdVi1WyKueaKuxcuMFaYeqnd9xAhA9rnfMXnCbQ \n",
      "with domain www.physiosupplies.de\n",
      "2024-10-18T10:30:08.055 | nightcrawler_logger | INFO | Extracting html content of \n",
      "the page https://biogo.de/products/instant-kaffee-arabica-mit-reishi-pilz-und-maca-bio-100-g-ani?variant=40672737820706&currency=EUR&utm_source=google&utm_medium=organic&utm_campaign=DE&utm_content=Instant-Kaffee%2520Arabica%2520mit%2520Reishi-Pilz%2520und%2520Maca%2520BIO%2520100%2520g%2520-%2520ANI&srsltid=AfmBOooWxImpQTvxAq05pO7YbBVBK1OnPj5DMit5UTZ-mVOmVKiY2X9vX3Y \n",
      "with domain biogo.de\n",
      "2024-10-18T10:30:08.056 | nightcrawler_logger | INFO | Extracting html content of \n",
      "the page https://www.redbubble.com/i/sticker/Hanamichi-Sakuragi-10-Slam-Dunk-Basketball-by-Hadeelx/81744762.EJUG5?country_code=GB&utm_source=google&utm_medium=organic-shopping&utm_campaign=organic+shopping&srsltid=AfmBOop0U0eRfabUPmCQAlRCIKAnbmG7iGNPWDVMBKMCwa6ZFo6YJEegmPA \n",
      "with domain www.redbubble.com\n",
      "2024-10-18T10:30:08.057 | nightcrawler_logger | INFO | Using cached response for zyte\n",
      "2024-10-18T10:30:08.059 | nightcrawler_logger | INFO | Extracting html content of \n",
      "the page https://www.bhphotovideo.com/c/product/1172326-REG/on_stage_kpk6520_keyboard_stand_bench_pak_with.html?ap=y&smp=y&smpm=e_f81_ull \n",
      "with domain www.bhphotovideo.com\n",
      "2024-10-18T10:30:08.060 | nightcrawler_logger | INFO | Extracting html content of \n",
      "the page https://wafuu.com/products/nepia-nose-celeb-pocket-tissue-12-pairs-x-4-packs?variant=43508369162403&currency=EUR&utm_source=google&utm_medium=organic&utm_campaign=EURO&utm_content=Nepia%20Nose%20Celeb%20Pocket%20Tissue%2012%20pairs%20x%204%20packs&srsltid=AfmBOooKWaHjTjdN9fNjrYrV3g9zMIYAxLOyPByHc4ZAAJCAPp7VIYRxZXk \n",
      "with domain wafuu.com\n",
      "2024-10-18T10:30:08.060 | nightcrawler_logger | INFO | Using cached response for zyte\n",
      "2024-10-18T10:30:08.060 | nightcrawler_logger | INFO | Domain saner.health labeled by hand as unknown\n",
      " 29%|██▉       | 21/73 [00:00<00:01, 42.43it/s]2024-10-18T10:30:08.061 | nightcrawler_logger | INFO | Extracting html content of \n",
      "the page https://detoxbuy.net/en/product/2x-diox-tea-detox/?srsltid=AfmBOoohHG60UDCwoI_2uQ191XU5qmzGCc5xLcqzc6S3xNtIObkRVDeKyHI \n",
      "with domain detoxbuy.net\n",
      "2024-10-18T10:30:08.062 | nightcrawler_logger | INFO | Domain www.amama.com.au labeled by hand as unknown\n",
      "2024-10-18T10:30:08.063 | nightcrawler_logger | INFO | Using cached response for zyte\n",
      "2024-10-18T10:30:08.063 | nightcrawler_logger | INFO | Extracting html content of \n",
      "the page https://beandcare.com/products/leti-sr-capsules-60-units?variant=47306729357660&currency=EUR&utm_medium=product_sync&utm_source=google&utm_content=sag_organic&utm_campaign=sag_organic&srsltid=AfmBOoq9tAIoZ5yKV6_0Sd-menbRiO9xwpL-crzBlTkB9QHJ51op4wW1xy4 \n",
      "with domain beandcare.com\n",
      "2024-10-18T10:30:08.064 | nightcrawler_logger | INFO | Extracting html content of \n",
      "the page https://www.distacart.com/products/mountainor-l-glutathione-capsules-for-healthy-radiant-skin-capsules?variant=42428680274079&utm_source=google&utm_medium=cpc&utm_campaign=google+shopping&srsltid=AfmBOopUZtYR2KZAPTRVkxb4b4sv5DFlKaBH_LZH7yFQ-cqGVnTeIXK5g1o \n",
      "with domain www.distacart.com\n",
      "2024-10-18T10:30:08.065 | nightcrawler_logger | INFO | Extracting html content of \n",
      "the page https://www.konsolenkost.de/gameboy-tetris-modul-gebraucht_9006465_105626/ \n",
      "with domain www.konsolenkost.de\n",
      "2024-10-18T10:30:08.066 | nightcrawler_logger | INFO | Using cached response for zyte\n",
      "2024-10-18T10:30:08.066 | nightcrawler_logger | INFO | Domain gloriaexports.com labeled by hand as positive\n",
      "2024-10-18T10:30:08.068 | nightcrawler_logger | INFO | Extracting html content of \n",
      "the page https://eu.ishopnutrition.com/products/yogi-peach-detox-tea-caffeine-free-16-pckts?variant=42362722156774 \n",
      "with domain eu.ishopnutrition.com\n",
      "2024-10-18T10:30:08.068 | nightcrawler_logger | INFO | Extracting html content of \n",
      "the page https://classicderma.com/products/bioderma-photoderm-spot-age-spf-50-reduces-spots-and-wrinkles-antioxidant-boosted-sunscreen-40ml-1-3-fl-oz.html \n",
      "with domain classicderma.com\n",
      "2024-10-18T10:30:08.068 | nightcrawler_logger | INFO | Using cached response for zyte\n",
      "2024-10-18T10:30:08.070 | nightcrawler_logger | INFO | Extracting html content of \n",
      "the page https://www.jacob.de/produkte/gigabyte-aorus-geforce-gv-n4090aorusx-w-24gd-artnr-8044246.html?ref=125&vdat=1708719989&srsltid=AfmBOoqb5eZKBEBCx_0b3v5qrl3BpSGiPFU-Hrw_U4JBaB-KUmGzUI7_wr4 \n",
      "with domain www.jacob.de\n",
      "2024-10-18T10:30:08.071 | nightcrawler_logger | INFO | Extracting html content of \n",
      "the page https://www.bike-discount.de/de/assos-cap-muetze?number=20107200-40283411&__delivery=26&__currency=1&srsltid=AfmBOop8Ke4XRL1XiUqI_q2-6jWrPNCVbc7zow1jDCGc2uJcC-XzhFOkhLg \n",
      "with domain www.bike-discount.de\n",
      "2024-10-18T10:30:08.072 | nightcrawler_logger | INFO | Extracting html content of \n",
      "the page https://www.alltricks.de/F-11928-nutrition/P-2572997-clif_bar_clif_bloks_energy_gums__6_gums__tropical_punch_60g \n",
      "with domain www.alltricks.de\n",
      "2024-10-18T10:30:08.073 | nightcrawler_logger | INFO | Domain www.biblio.com labeled by hand as unknown\n",
      "2024-10-18T10:30:08.074 | nightcrawler_logger | INFO | Extracting html content of \n",
      "the page https://www.ubuy.co.at/en/product/30AL16Y0-ecostick-zero-calorie-sweetener-packets-green-stevia-2000-count?srsltid=AfmBOoow6wK9Xjh9OrPi9jQ-0ZfxoaKw4zHeG46ueedOuCVT9kIw-mTjUr0 \n",
      "with domain www.ubuy.co.at\n",
      "2024-10-18T10:30:08.075 | nightcrawler_logger | INFO | Extracting html content of \n",
      "the page https://www.drogeriedepot.de/reisegroessen/meridol-mundspuelung-p-13222.html?camp=google_ads&gshopp=success&srsltid=AfmBOooJzaL6zg_1vtdzYLMiM827ruCMKZrdvEeByVX4jfxDCncIZrmTUNg&subid=1322204007965133817&utm_campaign=products&utm_medium=feed&utm_source=googleADs \n",
      "with domain www.drogeriedepot.de\n",
      "2024-10-18T10:30:08.076 | nightcrawler_logger | INFO | Extracting html content of \n",
      "the page https://www.ubuy.com.pl/en/product/1HQ94P23A-fairtex-muay-thai-bag-gloves-tgo3-tgt7-color-black-red-blue-white-yellow-size-medium-large-training-amp-sparring-bag-boxing-gloves-for-kick?srsltid=AfmBOopbLnOuSqQUAkHEZWb9RSOqUWKJrqRqOCBz07oQAYLpOKt7PW7IG4Y \n",
      "with domain www.ubuy.com.pl\n",
      "2024-10-18T10:30:08.076 | nightcrawler_logger | INFO | Using cached response for zyte\n",
      "2024-10-18T10:30:08.077 | nightcrawler_logger | INFO | Domain www.eneba.com labeled by hand as negative\n",
      "2024-10-18T10:30:08.191 | nightcrawler_logger | INFO | Using cached response for zyte\n",
      "2024-10-18T10:30:08.192 | nightcrawler_logger | INFO | Extracting html content of \n",
      "the page https://www.vitego-shop.de/krankenpflege-wundbehandlung-lr-vliwasorb-superabsorbierender-wundverband-20-x-20-cm?jtl=gs&srsltid=AfmBOoppa4-edH_QUu-kFRuP8wuLqFb1IUKbE2eyWPN-xMTMtgWi9-aK_zE \n",
      "with domain www.vitego-shop.de\n",
      "2024-10-18T10:30:08.216 | nightcrawler_logger | INFO | Domain www.uline.com labeled by hand as unknown\n",
      " 36%|███▌      | 26/73 [00:01<00:03, 13.29it/s]2024-10-18T10:30:08.221 | nightcrawler_logger | INFO | Using cached response for zyte\n",
      "2024-10-18T10:30:08.221 | nightcrawler_logger | INFO | Extracting html content of \n",
      "the page https://www.ubuy.cz/en/product/4RWKRT4-splenda-sucralose-3-5-oz-12-count?srsltid=AfmBOooVtnmgVLjZ13BZxNpu2rjQETTF0FriZHso-2PirBLaJSyEtBVLw0U \n",
      "with domain www.ubuy.cz\n",
      "2024-10-18T10:30:08.222 | nightcrawler_logger | INFO | Domain sparklingspices.us labeled by hand as unknown\n",
      "2024-10-18T10:30:08.234 | nightcrawler_logger | INFO | Extracting html content of \n",
      "the page https://goodsofjapan.com/products/yamamoto-hanpo-pharmaceutical-co-ltd-black-diet-tea-5g-x-28-packets?variant=39809456242775&currency=USD&utm_medium=product_sync&utm_source=google&utm_content=sag_organic&utm_campaign=sag_organic&srsltid=AfmBOorF97hlbpgH2CKIAR-AWrVGDcd6qoEwJj4LD0sOluZiLn_0snSis2o \n",
      "with domain goodsofjapan.com\n",
      "2024-10-18T10:30:08.245 | nightcrawler_logger | INFO | Extracting html content of \n",
      "the page https://livehelfi.com/products/life-extension-optimized-quercetin?srsltid=AfmBOopv7kHyy5BHxFZYhC_-FHFOTOBhuwMqa1DSEnfFwl_eEVgsuhHRgZs \n",
      "with domain livehelfi.com\n",
      "2024-10-18T10:30:08.251 | nightcrawler_logger | INFO | Using cached response for zyte\n",
      "2024-10-18T10:30:08.257 | nightcrawler_logger | INFO | Extracting html content of \n",
      "the page https://www.ubuy.com.gr/en/product/RWOLBTM-splenda-naturals-stevia-sweetener-9-8-ounce-jar?srsltid=AfmBOoqGGBEYzS7bKxufRJXYHNvusFly9-34YkOzKsCcgTEygo6Yt5kTEwQ \n",
      "with domain www.ubuy.com.gr\n",
      "2024-10-18T10:30:08.271 | nightcrawler_logger | INFO | Using cached response for zyte\n",
      "2024-10-18T10:30:08.274 | nightcrawler_logger | INFO | Using cached response for zyte\n",
      "2024-10-18T10:30:08.275 | nightcrawler_logger | INFO | Using cached response for zyte\n",
      "2024-10-18T10:30:08.276 | nightcrawler_logger | INFO | Domain www.victorinox.com labeled by hand as unknown\n",
      "2024-10-18T10:30:08.278 | nightcrawler_logger | INFO | Using cached response for zyte\n",
      "2024-10-18T10:30:08.279 | nightcrawler_logger | INFO | Domain biaxol.com labeled by hand as unknown\n",
      "2024-10-18T10:30:08.280 | nightcrawler_logger | INFO | Using cached response for zyte\n",
      " 40%|███▉      | 29/73 [00:03<00:07,  5.96it/s]2024-10-18T10:30:08.282 | nightcrawler_logger | INFO | Using cached response for zyte\n",
      "2024-10-18T10:30:08.425 | nightcrawler_logger | INFO | Using cached response for zyte\n",
      "2024-10-18T10:30:08.525 | nightcrawler_logger | INFO | Using cached response for zyte\n",
      "2024-10-18T10:30:08.593 | nightcrawler_logger | INFO | Using cached response for zyte\n",
      "2024-10-18T10:30:08.595 | nightcrawler_logger | INFO | Using cached response for zyte\n",
      "2024-10-18T10:30:08.599 | nightcrawler_logger | INFO | Using cached response for zyte\n",
      "2024-10-18T10:30:08.601 | nightcrawler_logger | INFO | Using cached response for zyte\n",
      "2024-10-18T10:30:08.762 | nightcrawler_logger | INFO | Extracting html content of \n",
      "the page https://www.ubuy.dk/en/product/4B0CKGI-varomorus-professional-beekeeping-suit-full-body-100-cotton-with-veil-hood-l?srsltid=AfmBOoqccuIPRkKKH5Xn4pJD1Q16rjtCSZN6QEUm1RhYpsv_DjxPZJ7klNg \n",
      "with domain www.ubuy.dk\n",
      "2024-10-18T10:30:08.989 | nightcrawler_logger | INFO | Using cached response for zyte\n",
      "2024-10-18T10:30:09.048 | nightcrawler_logger | INFO | Extracting html content of \n",
      "the page https://snorflex.de/produkt/sleeppro-easifit-am-anti-microbial/?srsltid=AfmBOor60_aXEvueq5h5ZX0lNGcNEo6EWfUd691b80_UVq5sdw2TB9g9EBg \n",
      "with domain snorflex.de\n",
      "2024-10-18T10:30:09.064 | nightcrawler_logger | INFO | Using cached response for zyte\n",
      "2024-10-18T10:30:09.071 | nightcrawler_logger | INFO | Using cached response for zyte\n",
      "2024-10-18T10:30:09.131 | nightcrawler_logger | INFO | Using cached response for zyte\n",
      "2024-10-18T10:30:09.177 | nightcrawler_logger | INFO | Extracting html content of \n",
      "the page https://www.worldofsweets.de/Haribo-Kicker-Brause-175g.328807.html \n",
      "with domain www.worldofsweets.de\n",
      "2024-10-18T10:30:09.221 | nightcrawler_logger | INFO | Using cached response for zyte\n",
      "2024-10-18T10:30:09.281 | nightcrawler_logger | INFO | Using cached response for zyte\n",
      "2024-10-18T10:30:09.490 | nightcrawler_logger | INFO | Using cached response for zyte\n",
      "2024-10-18T10:30:09.620 | nightcrawler_logger | INFO | Using cached response for zyte\n",
      "2024-10-18T10:30:09.625 | nightcrawler_logger | INFO | Using cached response for zyte\n",
      "2024-10-18T10:30:09.631 | nightcrawler_logger | INFO | Using cached response for zyte\n",
      "2024-10-18T10:30:09.634 | nightcrawler_logger | INFO | Using cached response for zyte\n",
      "2024-10-18T10:30:09.637 | nightcrawler_logger | INFO | Using cached response for zyte\n",
      "2024-10-18T10:30:09.863 | nightcrawler_logger | INFO | Using cached response for zyte\n",
      "2024-10-18T10:30:09.965 | nightcrawler_logger | INFO | Using cached response for zyte\n",
      "2024-10-18T10:30:10.070 | nightcrawler_logger | INFO | Using cached response for zyte\n",
      "2024-10-18T10:30:10.147 | nightcrawler_logger | INFO | Using cached response for zyte\n",
      "2024-10-18T10:30:10.273 | nightcrawler_logger | INFO | Using cached response for zyte\n",
      "2024-10-18T10:30:13.359 | nightcrawler_logger | INFO | Using cached response for zyte\n",
      "2024-10-18T10:30:13.570 | nightcrawler_logger | INFO | Using cached response for zyte\n",
      "2024-10-18T10:30:14.576 | nightcrawler_logger | INFO | Using cached response for zyte\n",
      "2024-10-18T10:30:21.177 | nightcrawler_logger | INFO | No shipping policy page found with keywords model for \n",
      "the page https://biogo.de/products/instant-kaffee-arabica-mit-reishi-pilz-und-maca-bio-100-g-ani?variant=40672737820706&currency=EUR&utm_source=google&utm_medium=organic&utm_campaign=DE&utm_content=Instant-Kaffee%2520Arabica%2520mit%2520Reishi-Pilz%2520und%2520Maca%2520BIO%2520100%2520g%2520-%2520ANI&srsltid=AfmBOooWxImpQTvxAq05pO7YbBVBK1OnPj5DMit5UTZ-mVOmVKiY2X9vX3Y \n",
      "with domain biogo.de\n",
      "2024-10-18T10:30:23.446 | nightcrawler_logger | INFO | Using cached response for zyte\n",
      "2024-10-18T10:30:23.576 | nightcrawler_logger | INFO | Using cached response for zyte\n",
      "2024-10-18T10:30:23.619 | nightcrawler_logger | INFO | Using cached response\n",
      " 42%|████▏     | 31/73 [00:15<00:42,  1.02s/it]2024-10-18T10:30:23.960 | nightcrawler_logger | INFO | Using cached response\n",
      " 44%|████▍     | 32/73 [00:15<00:38,  1.06it/s]2024-10-18T10:30:25.373 | nightcrawler_logger | INFO | Using cached response for zyte\n",
      "2024-10-18T10:30:25.603 | nightcrawler_logger | INFO | Using cached response\n",
      " 45%|████▌     | 33/73 [00:17<00:41,  1.03s/it]2024-10-18T10:30:26.430 | nightcrawler_logger | INFO | Using cached response for zyte\n",
      "2024-10-18T10:30:27.119 | nightcrawler_logger | INFO | Using cached response\n",
      " 47%|████▋     | 34/73 [00:18<00:42,  1.10s/it]2024-10-18T10:30:27.503 | nightcrawler_logger | INFO | Using cached response for zyte\n",
      "2024-10-18T10:30:27.615 | nightcrawler_logger | INFO | Using cached response\n",
      " 48%|████▊     | 35/73 [00:19<00:37,  1.00it/s]2024-10-18T10:30:27.899 | nightcrawler_logger | INFO | Using cached response for zyte\n",
      "2024-10-18T10:30:28.038 | nightcrawler_logger | INFO | Using cached response\n",
      " 49%|████▉     | 36/73 [00:19<00:32,  1.13it/s]2024-10-18T10:30:28.423 | nightcrawler_logger | INFO | Using cached response for zyte\n",
      "2024-10-18T10:30:28.590 | nightcrawler_logger | INFO | Using cached response\n",
      " 51%|█████     | 37/73 [00:20<00:29,  1.22it/s]2024-10-18T10:30:28.717 | nightcrawler_logger | INFO | Using cached response for zyte\n",
      "2024-10-18T10:30:28.911 | nightcrawler_logger | INFO | Using cached response\n",
      " 52%|█████▏    | 38/73 [00:20<00:24,  1.44it/s]2024-10-18T10:30:29.473 | nightcrawler_logger | INFO | Using cached response for zyte\n",
      "2024-10-18T10:30:29.782 | nightcrawler_logger | INFO | Using cached response\n",
      " 53%|█████▎    | 39/73 [00:21<00:25,  1.35it/s]2024-10-18T10:30:30.001 | nightcrawler_logger | INFO | Using cached response for zyte\n",
      "2024-10-18T10:30:30.145 | nightcrawler_logger | INFO | Using cached response\n",
      " 55%|█████▍    | 40/73 [00:21<00:20,  1.58it/s]2024-10-18T10:30:30.995 | nightcrawler_logger | INFO | Multiple shipping policy page urls found for\n",
      "                            the page https://wafuu.com/products/nepia-nose-celeb-pocket-tissue-12-pairs-x-4-packs?variant=43508369162403&currency=EUR&utm_source=google&utm_medium=organic&utm_campaign=EURO&utm_content=Nepia%20Nose%20Celeb%20Pocket%20Tissue%2012%20pairs%20x%204%20packs&srsltid=AfmBOooKWaHjTjdN9fNjrYrV3g9zMIYAxLOyPByHc4ZAAJCAPp7VIYRxZXk\n",
      "                            with domain wafuu.com\n",
      "                            list of shipping policy page: ['https://wafuu.com/pages/shipping-country', 'https://wafuu.com/pages/shipping-fee']\n",
      "                            \n",
      "2024-10-18T10:30:31.000 | nightcrawler_logger | INFO | Using cached response for zyte\n",
      "2024-10-18T10:30:31.282 | nightcrawler_logger | INFO | Using cached response\n",
      " 56%|█████▌    | 41/73 [00:23<00:24,  1.30it/s]2024-10-18T10:30:31.356 | nightcrawler_logger | INFO | Using cached response for zyte\n",
      "2024-10-18T10:30:31.514 | nightcrawler_logger | INFO | Using cached response\n",
      " 58%|█████▊    | 42/73 [00:23<00:19,  1.61it/s]2024-10-18T10:30:31.971 | nightcrawler_logger | INFO | Using cached response for zyte\n",
      "2024-10-18T10:30:32.267 | nightcrawler_logger | INFO | Using cached response\n",
      " 59%|█████▉    | 43/73 [00:24<00:19,  1.51it/s]2024-10-18T10:30:32.501 | nightcrawler_logger | INFO | Using cached response for zyte\n",
      "2024-10-18T10:30:32.735 | nightcrawler_logger | INFO | Using cached response\n",
      " 60%|██████    | 44/73 [00:24<00:17,  1.65it/s]2024-10-18T10:30:32.909 | nightcrawler_logger | INFO | Using cached response for zyte\n",
      "2024-10-18T10:30:32.917 | nightcrawler_logger | INFO | Multiple shipping policy page urls found for\n",
      "                            the page https://www.medi-shop.gr/en/light-therapy-devices/bioptron-medall?srsltid=AfmBOooDYyw-ZT1DRRQWLMpDr8nhEFFtHUeg98QVf4kZtdaa66KGw2YLj8Q\n",
      "                            with domain www.medi-shop.gr\n",
      "                            list of shipping policy page: ['https://www.medi-shop.gr/en/pages/shipping', 'https://www.medi-shop.gr/en/pages/delivery_time']\n",
      "                            \n",
      "2024-10-18T10:30:32.939 | nightcrawler_logger | INFO | Using cached response for zyte\n",
      "2024-10-18T10:30:33.054 | nightcrawler_logger | INFO | Using cached response\n",
      " 62%|██████▏   | 45/73 [00:24<00:15,  1.84it/s]2024-10-18T10:30:33.176 | nightcrawler_logger | INFO | Using cached response\n",
      "2024-10-18T10:30:33.204 | nightcrawler_logger | INFO | Using cached response for zyte\n",
      "2024-10-18T10:30:33.371 | nightcrawler_logger | INFO | Using cached response\n",
      " 63%|██████▎   | 46/73 [00:25<00:12,  2.21it/s]2024-10-18T10:30:33.467 | nightcrawler_logger | INFO | Using cached response for zyte\n",
      "2024-10-18T10:30:34.937 | nightcrawler_logger | INFO | Using cached response\n",
      " 64%|██████▍   | 47/73 [00:26<00:20,  1.28it/s]2024-10-18T10:30:35.313 | nightcrawler_logger | INFO | Using cached response for zyte\n",
      "2024-10-18T10:30:35.352 | nightcrawler_logger | INFO | Using cached response for zyte\n",
      "2024-10-18T10:30:35.421 | nightcrawler_logger | INFO | Using cached response\n",
      " 66%|██████▌   | 48/73 [00:27<00:17,  1.42it/s]2024-10-18T10:30:36.256 | nightcrawler_logger | INFO | Using cached response\n",
      " 67%|██████▋   | 49/73 [00:28<00:17,  1.37it/s]2024-10-18T10:30:37.249 | nightcrawler_logger | INFO | Using cached response for zyte\n",
      "2024-10-18T10:30:37.355 | nightcrawler_logger | INFO | Using cached response\n",
      " 68%|██████▊   | 50/73 [00:29<00:19,  1.19it/s]2024-10-18T10:30:37.672 | nightcrawler_logger | INFO | Using cached response for zyte\n",
      "2024-10-18T10:30:37.938 | nightcrawler_logger | INFO | Using cached response\n",
      " 70%|██████▉   | 51/73 [00:29<00:16,  1.31it/s]2024-10-18T10:30:38.160 | nightcrawler_logger | INFO | Using cached response for zyte\n",
      "2024-10-18T10:30:38.280 | nightcrawler_logger | INFO | Using cached response\n",
      " 71%|███████   | 52/73 [00:30<00:13,  1.57it/s]2024-10-18T10:30:38.318 | nightcrawler_logger | INFO | Multiple shipping policy page urls found for\n",
      "                            the page https://first-medical-shop.de/verbandmittel/wundverband/sterile-wundverbaende/vliwasorb-pro-lohmann-rauscher-ssb-faehig.html?combi_id=1743393&srsltid=AfmBOopuFxu8pTj7kFNqLpIF7DfMUjUZD1dCV3iW7KKuVxqqL8LXMZr59FY\n",
      "                            with domain first-medical-shop.de\n",
      "                            list of shipping policy page: ['https://first-medical-shop.de/info/lieferservice.html', 'https://first-medical-shop.de/info/versandbedingungen.html']\n",
      "                            \n",
      "2024-10-18T10:30:38.326 | nightcrawler_logger | INFO | Using cached response for zyte\n",
      "2024-10-18T10:30:38.552 | nightcrawler_logger | INFO | Using cached response\n",
      "2024-10-18T10:30:38.569 | nightcrawler_logger | INFO | Using cached response for zyte\n",
      "2024-10-18T10:30:38.804 | nightcrawler_logger | INFO | Using cached response\n",
      " 73%|███████▎  | 53/73 [00:30<00:12,  1.65it/s]2024-10-18T10:30:38.942 | nightcrawler_logger | INFO | Using cached response for zyte\n",
      "2024-10-18T10:30:39.134 | nightcrawler_logger | INFO | Using cached response\n",
      " 74%|███████▍  | 54/73 [00:30<00:09,  1.92it/s]2024-10-18T10:30:40.226 | nightcrawler_logger | INFO | Using cached response for zyte\n",
      "2024-10-18T10:30:40.494 | nightcrawler_logger | INFO | Using cached response\n",
      " 75%|███████▌  | 55/73 [00:32<00:13,  1.29it/s]2024-10-18T10:30:42.730 | nightcrawler_logger | INFO | Using cached response for zyte\n",
      "2024-10-18T10:30:43.682 | nightcrawler_logger | INFO | Using cached response\n",
      " 77%|███████▋  | 56/73 [00:35<00:25,  1.50s/it]2024-10-18T10:30:52.149 | nightcrawler_logger | INFO | Multiple shipping policy page urls found for\n",
      "                            the page https://www.ubuy.ie/en/product/F12RC2V2-60-sachets-bio-wellz-2-in-1-instant-coffee-superfood-extract-goji-eucommia-5-boxes-gano-excel-3-in-1?srsltid=AfmBOoqUgqOMn2YMC_5CKLQpYnccVbEtbEgP_96imLaS4AsR12OJoXhhPPg\n",
      "                            with domain www.ubuy.ie\n",
      "                            list of shipping policy page: ['https://www.ubuy.ie/en/shipping-policy', 'https://www.ubuy.ie/en/ubuy-membership']\n",
      "                            \n",
      "2024-10-18T10:30:52.152 | nightcrawler_logger | INFO | Using cached response for zyte\n",
      "2024-10-18T10:30:52.257 | nightcrawler_logger | INFO | Using cached response\n",
      " 78%|███████▊  | 57/73 [00:43<00:57,  3.62s/it]2024-10-18T10:30:52.512 | nightcrawler_logger | INFO | Multiple shipping policy page urls found for\n",
      "                            the page https://www.ubuy.cz/en/product/4RWKRT4-splenda-sucralose-3-5-oz-12-count?srsltid=AfmBOooVtnmgVLjZ13BZxNpu2rjQETTF0FriZHso-2PirBLaJSyEtBVLw0U\n",
      "                            with domain www.ubuy.cz\n",
      "                            list of shipping policy page: ['https://www.ubuy.cz/en/shipping-policy', 'https://www.ubuy.cz/en/ubuy-membership']\n",
      "                            \n",
      "2024-10-18T10:30:52.517 | nightcrawler_logger | INFO | Using cached response for zyte\n",
      "2024-10-18T10:30:52.622 | nightcrawler_logger | INFO | Using cached response\n",
      " 79%|███████▉  | 58/73 [00:44<00:39,  2.64s/it]2024-10-18T10:30:52.762 | nightcrawler_logger | INFO | Multiple shipping policy page urls found for\n",
      "                            the page https://www.ubuy.com.pl/en/product/1HQ94P23A-fairtex-muay-thai-bag-gloves-tgo3-tgt7-color-black-red-blue-white-yellow-size-medium-large-training-amp-sparring-bag-boxing-gloves-for-kick?srsltid=AfmBOopbLnOuSqQUAkHEZWb9RSOqUWKJrqRqOCBz07oQAYLpOKt7PW7IG4Y\n",
      "                            with domain www.ubuy.com.pl\n",
      "                            list of shipping policy page: ['https://www.ubuy.com.pl/en/shipping-policy', 'https://www.ubuy.com.pl/en/ubuy-membership']\n",
      "                            \n",
      "2024-10-18T10:30:52.764 | nightcrawler_logger | INFO | Using cached response for zyte\n",
      "2024-10-18T10:30:52.868 | nightcrawler_logger | INFO | Using cached response\n",
      "2024-10-18T10:30:52.878 | nightcrawler_logger | INFO | Multiple shipping policy page urls found for\n",
      "                            the page https://www.ubuy.com.gr/en/product/RWOLBTM-splenda-naturals-stevia-sweetener-9-8-ounce-jar?srsltid=AfmBOoqGGBEYzS7bKxufRJXYHNvusFly9-34YkOzKsCcgTEygo6Yt5kTEwQ\n",
      "                            with domain www.ubuy.com.gr\n",
      "                            list of shipping policy page: ['https://www.ubuy.com.gr/en/shipping-policy', 'https://www.ubuy.com.gr/en/ubuy-membership']\n",
      "                            \n",
      " 81%|████████  | 59/73 [00:44<00:26,  1.92s/it]2024-10-18T10:30:52.886 | nightcrawler_logger | INFO | Multiple shipping policy page urls found for\n",
      "                            the page https://www.ubuy.dk/en/product/4B0CKGI-varomorus-professional-beekeeping-suit-full-body-100-cotton-with-veil-hood-l?srsltid=AfmBOoqccuIPRkKKH5Xn4pJD1Q16rjtCSZN6QEUm1RhYpsv_DjxPZJ7klNg\n",
      "                            with domain www.ubuy.dk\n",
      "                            list of shipping policy page: ['https://www.ubuy.dk/en/shipping-policy', 'https://www.ubuy.dk/en/ubuy-membership']\n",
      "                            \n",
      "2024-10-18T10:30:52.888 | nightcrawler_logger | INFO | Using cached response for zyte\n",
      "2024-10-18T10:30:52.893 | nightcrawler_logger | INFO | Using cached response for zyte\n",
      "2024-10-18T10:30:53.033 | nightcrawler_logger | INFO | Using cached response\n",
      "2024-10-18T10:30:53.055 | nightcrawler_logger | INFO | Using cached response\n",
      " 82%|████████▏ | 60/73 [00:44<00:18,  1.40s/it]2024-10-18T10:30:53.275 | nightcrawler_logger | INFO | Multiple shipping policy page urls found for\n",
      "                            the page https://www.ubuy.co.at/en/product/30AL16Y0-ecostick-zero-calorie-sweetener-packets-green-stevia-2000-count?srsltid=AfmBOoow6wK9Xjh9OrPi9jQ-0ZfxoaKw4zHeG46ueedOuCVT9kIw-mTjUr0\n",
      "                            with domain www.ubuy.co.at\n",
      "                            list of shipping policy page: ['https://www.ubuy.co.at/en/shipping-policy', 'https://www.ubuy.co.at/en/ubuy-membership']\n",
      "                            \n",
      "2024-10-18T10:30:53.279 | nightcrawler_logger | INFO | Using cached response for zyte\n",
      "2024-10-18T10:30:53.370 | nightcrawler_logger | INFO | Using cached response\n",
      " 85%|████████▍ | 62/73 [00:45<00:09,  1.21it/s]2024-10-18T10:31:01.327 | nightcrawler_logger | INFO | Multiple shipping policy page urls found for\n",
      "                            the page https://www.alltricks.de/F-11928-nutrition/P-2572997-clif_bar_clif_bloks_energy_gums__6_gums__tropical_punch_60g\n",
      "                            with domain www.alltricks.de\n",
      "                            list of shipping policy page: ['https://www.alltricks.de/surl/premiumkonto', 'https://www.alltricks.de/lieferungen']\n",
      "                            \n",
      "2024-10-18T10:31:01.331 | nightcrawler_logger | INFO | Using cached response for zyte\n",
      "2024-10-18T10:31:01.397 | nightcrawler_logger | INFO | Using cached response\n",
      " 86%|████████▋ | 63/73 [00:53<00:26,  2.61s/it]2024-10-18T10:31:08.778 | nightcrawler_logger | INFO | Multiple shipping policy page urls found for\n",
      "                            the page https://www.amazon.com/Mega-Man-Complete-Scott-McNeil/dp/B00M0JTYF6/ref=asc_df_B00M0JTYF6/?tag=hyprod-20&linkCode=df0&hvadid=312157417100&hvpos=&hvnetw=g&hvrand=2087573618504662047&hvpone=&hvptwo=&hvqmt=&hvdev=c&hvdvcmdl=&hvlocint=&hvlocphy=9003515&hvtargid=pla-435246014097&psc=1&mcid=a4a4d203c28634c88ecb80199c4332ee\n",
      "                            with domain www.amazon.com\n",
      "                            list of shipping policy page: ['https://www.amazon.com/hz5/yourmembershipsandsubscriptions?ref_=nav_AccountFlyout_digital_subscriptions', 'https://www.amazon.com/gp/help/customer/display.html?nodeId=468520&ref_=footer_shiprates', 'https://www.veeqo.com/?utm_source=amazon&utm_medium=website&utm_campaign=footer', 'https://www.amazon.com/gp/browse.html?node=230659011&ref_=footer_amazonglobal']\n",
      "                            \n",
      "2024-10-18T10:31:08.781 | nightcrawler_logger | INFO | Using cached response for zyte\n",
      "2024-10-18T10:31:08.803 | nightcrawler_logger | INFO | Using cached response\n",
      "2024-10-18T10:31:08.812 | nightcrawler_logger | INFO | Using cached response for zyte\n",
      "2024-10-18T10:31:08.888 | nightcrawler_logger | INFO | Using cached response\n",
      " 88%|████████▊ | 64/73 [01:00<00:34,  3.89s/it]2024-10-18T10:31:09.032 | nightcrawler_logger | INFO | Using cached response for zyte\n",
      "2024-10-18T10:31:09.086 | nightcrawler_logger | INFO | Using cached response\n",
      " 89%|████████▉ | 65/73 [01:00<00:23,  2.88s/it]2024-10-18T10:31:11.634 | nightcrawler_logger | INFO | Multiple shipping policy page urls found for\n",
      "                            the page https://www.cls-med.de/Green-Spring-SARS-CoV-2-Antigen-Test-25-Tests::24725.html?agi_country=206&srsltid=AfmBOop7ISUA4t6C_bnq7JELsvV5082QYKvIRZ09nFta5YAK-P10i-orRGc\n",
      "                            with domain www.cls-med.de\n",
      "                            list of shipping policy page: ['https://www.cls-med.de/Lieferzeit:_:5003.html', 'https://www.cls-med.de/Versandkosten:_:1.html']\n",
      "                            \n",
      "2024-10-18T10:31:11.637 | nightcrawler_logger | INFO | Using cached response for zyte\n",
      "2024-10-18T10:31:11.697 | nightcrawler_logger | INFO | Using cached response\n",
      " 90%|█████████ | 66/73 [01:03<00:19,  2.81s/it]2024-10-18T10:31:12.001 | nightcrawler_logger | INFO | Multiple shipping policy page urls found for\n",
      "                            the page https://www.redbubble.com/i/sticker/Hanamichi-Sakuragi-10-Slam-Dunk-Basketball-by-Hadeelx/81744762.EJUG5?country_code=GB&utm_source=google&utm_medium=organic-shopping&utm_campaign=organic+shopping&srsltid=AfmBOop0U0eRfabUPmCQAlRCIKAnbmG7iGNPWDVMBKMCwa6ZFo6YJEegmPA\n",
      "                            with domain www.redbubble.com\n",
      "                            list of shipping policy page: ['https://help.redbubble.com/hc/en/articles/201247349?ref=typeahead', 'https://help.redbubble.com/hc/en/articles/203024315']\n",
      "                            \n",
      "2024-10-18T10:31:12.004 | nightcrawler_logger | INFO | Using cached response for zyte\n",
      "2024-10-18T10:31:12.039 | nightcrawler_logger | INFO | Using cached response\n",
      " 92%|█████████▏| 67/73 [01:03<00:12,  2.10s/it]2024-10-18T10:31:15.662 | nightcrawler_logger | INFO | Multiple shipping policy page urls found for\n",
      "                            the page https://www.petersberg-apotheke.de/aquacel-foam-n-adh-10x20cm-a10818322.html?p=gs_prodlink\n",
      "                            with domain www.petersberg-apotheke.de\n",
      "                            list of shipping policy page: ['https://www.petersberg-apotheke.de/versandkosten.html', \"https://www.petersberg-apotheke.dejavascript:popup('popup_versandkosten.php', 770);\"]\n",
      "                            \n",
      "2024-10-18T10:31:15.665 | nightcrawler_logger | INFO | Using cached response for zyte\n",
      "2024-10-18T10:31:15.708 | nightcrawler_logger | INFO | Using cached response\n",
      "2024-10-18T10:31:16.004 | nightcrawler_logger | WARNING | API call failed with error: API call failed with status code 400 and response: {\"type\":\"/request/invalid\",\"title\":\"Bad Request\",\"status\":400,\"detail\":\"Format of field url is invalid\"}. Retrying in 2 seconds...\n",
      "2024-10-18T10:31:16.049 | nightcrawler_logger | INFO | Multiple shipping policy page urls found for\n",
      "                            the page https://www.counterapo.de/aquacel-foam-n-adh-20x20cm-a8999836.html?p=gs_prodlink\n",
      "                            with domain www.counterapo.de\n",
      "                            list of shipping policy page: ['https://www.counterapo.de/versandkosten.html', \"https://www.counterapo.dejavascript:popup('popup_versandkosten.php', 770);\"]\n",
      "                            \n",
      "2024-10-18T10:31:16.051 | nightcrawler_logger | INFO | Using cached response for zyte\n",
      "2024-10-18T10:31:16.088 | nightcrawler_logger | INFO | Using cached response\n",
      "2024-10-18T10:31:16.387 | nightcrawler_logger | WARNING | API call failed with error: API call failed with status code 400 and response: {\"type\":\"/request/invalid\",\"title\":\"Bad Request\",\"status\":400,\"detail\":\"Format of field url is invalid\"}. Retrying in 2 seconds...\n",
      "2024-10-18T10:31:18.303 | nightcrawler_logger | WARNING | API call failed with error: API call failed with status code 400 and response: {\"type\":\"/request/invalid\",\"title\":\"Bad Request\",\"status\":400,\"detail\":\"Format of field url is invalid\"}. Retrying in 2 seconds...\n",
      "2024-10-18T10:31:18.667 | nightcrawler_logger | WARNING | API call failed with error: API call failed with status code 400 and response: {\"type\":\"/request/invalid\",\"title\":\"Bad Request\",\"status\":400,\"detail\":\"Format of field url is invalid\"}. Retrying in 2 seconds...\n",
      "2024-10-18T10:31:19.180 | nightcrawler_logger | INFO | No shipping policy page found with keywords model for \n",
      "the page https://www.konsolenkost.de/gameboy-tetris-modul-gebraucht_9006465_105626/ \n",
      "with domain www.konsolenkost.de\n",
      " 93%|█████████▎| 68/73 [01:10<00:17,  3.56s/it]2024-10-18T10:31:20.616 | nightcrawler_logger | WARNING | API call failed with error: API call failed with status code 400 and response: {\"type\":\"/request/invalid\",\"title\":\"Bad Request\",\"status\":400,\"detail\":\"Format of field url is invalid\"}. Retrying in 2 seconds...\n",
      "2024-10-18T10:31:20.954 | nightcrawler_logger | WARNING | API call failed with error: API call failed with status code 400 and response: {\"type\":\"/request/invalid\",\"title\":\"Bad Request\",\"status\":400,\"detail\":\"Format of field url is invalid\"}. Retrying in 2 seconds...\n",
      "2024-10-18T10:31:22.618 | nightcrawler_logger | INFO | All API call attempts failed.\n",
      " 95%|█████████▍| 69/73 [01:14<00:14,  3.53s/it]2024-10-18T10:31:22.958 | nightcrawler_logger | INFO | All API call attempts failed.\n",
      " 96%|█████████▌| 70/73 [01:14<00:07,  2.59s/it]2024-10-18T10:31:28.462 | nightcrawler_logger | INFO | Multiple shipping policy page urls found for\n",
      "                            the page https://www.drogeriedepot.de/reisegroessen/meridol-mundspuelung-p-13222.html?camp=google_ads&gshopp=success&srsltid=AfmBOooJzaL6zg_1vtdzYLMiM827ruCMKZrdvEeByVX4jfxDCncIZrmTUNg&subid=1322204007965133817&utm_campaign=products&utm_medium=feed&utm_source=googleADs\n",
      "                            with domain www.drogeriedepot.de\n",
      "                            list of shipping policy page: ['https://www.drogeriedepot.de/index.php?action=shipping_details&osCsid=lmjhpqnb5aq8gk0qsasj96obv7', 'https://www.drogeriedepot.de/shipping.php?osCsid=lmjhpqnb5aq8gk0qsasj96obv7']\n",
      "                            \n",
      "2024-10-18T10:31:28.464 | nightcrawler_logger | INFO | Using cached response for zyte\n",
      "2024-10-18T10:31:28.472 | nightcrawler_logger | INFO | Using cached response\n",
      " 97%|█████████▋| 71/73 [01:20<00:06,  3.45s/it]2024-10-18T10:31:39.175 | nightcrawler_logger | INFO | Using cached response for zyte\n",
      "2024-10-18T10:31:39.570 | nightcrawler_logger | INFO | Using cached response\n",
      " 99%|█████████▊| 72/73 [01:31<00:05,  5.73s/it]2024-10-18T10:31:55.084 | nightcrawler_logger | INFO | Multiple shipping policy page urls found for\n",
      "                            the page https://www.herbspro.com/products/organic-everyday-detox-tea-lemon?variant=32875080777828&currency=USD&utm_medium=product_sync&utm_source=google&utm_content=sag_organic&utm_campaign=sag_organic&srsltid=AfmBOopBVVpftsNEoLzlCrI-LXP-gB-DeeTaVg5tnWmNf0NkcD5F2og2Oas\n",
      "                            with domain www.herbspro.com\n",
      "                            list of shipping policy page: ['https://www.herbspro.com/pages/shipping-policy', 'https://www.herbspro.com/policies/shipping-policy']\n",
      "                            \n",
      "2024-10-18T10:31:55.085 | nightcrawler_logger | INFO | Using cached response for zyte\n",
      "2024-10-18T10:31:56.712 | nightcrawler_logger | INFO | Using cached response\n",
      "2024-10-18T10:31:56.714 | nightcrawler_logger | INFO | Unexpected response format from llm: Judge.me is a review platform that helps businesses collect and display ratings and reviews. It allows customers to share their experiences and helps businesses build trust and credibility.\n",
      "                                    for the page https://www.herbspro.com/products/organic-everyday-detox-tea-lemon?variant=32875080777828&currency=USD&utm_medium=product_sync&utm_source=google&utm_content=sag_organic&utm_campaign=sag_organic&srsltid=AfmBOopBVVpftsNEoLzlCrI-LXP-gB-DeeTaVg5tnWmNf0NkcD5F2og2Oas\n",
      "                                    with domain www.herbspro.com\n",
      "                                    with shipping policy page https://www.herbspro.com/pages/shipping-policy\n",
      "2024-10-18T10:31:56.715 | nightcrawler_logger | INFO | Using cached response for zyte\n",
      "2024-10-18T10:31:57.929 | nightcrawler_logger | INFO | Using cached response\n",
      "100%|██████████| 73/73 [01:49<00:00,  1.50s/it]\n"
     ]
    }
   ],
   "source": [
    "# Instantiate filterer\n",
    "filterer = ShippingPolicyFilterer(\n",
    "    country=DEFAULT_CONFIG[\"COUNTRY\"],\n",
    "    config=DEFAULT_CONFIG,\n",
    "    config_filterer=DEFAULT_CONFIG_FILTERER,\n",
    "    zyte_api_product_page=ZyteAPI(),\n",
    "    zyte_api_policy_page=ZyteAPI(),\n",
    "    mistral_api=MistralAPI(),\n",
    ")\n",
    "\n",
    "# Perform filtering\n",
    "time_start = time.time()\n",
    "blob_2024_top_domain_raw_spf = filterer.perform_filtering(blob_2024_top_domain_raw_cf)\n",
    "time_end = time.time()\n",
    "\n",
    "# Compute time elapsed\n",
    "blob_2024_top_domain_raw_spf[\"time_elapsed\"] = time_end - time_start\n",
    "# 3min"
   ]
  },
  {
   "cell_type": "code",
   "execution_count": 11,
   "metadata": {},
   "outputs": [
    {
     "name": "stdout",
     "output_type": "stream",
     "text": [
      "Index(['page_url', 'domain', 'filterer_name', 'RESULT', 'shipping_in_swiss',\n",
      "       'label_justif', 'index', 'urls_shipping_policy_page_found_analysis',\n",
      "       'url_shipping_policy_page_kept', 'time_elapsed'],\n",
      "      dtype='object')\n"
     ]
    }
   ],
   "source": [
    "print(blob_2024_top_domain_raw_spf.columns)"
   ]
  },
  {
   "cell_type": "markdown",
   "metadata": {},
   "source": [
    "## Evaluate"
   ]
  },
  {
   "cell_type": "code",
   "execution_count": null,
   "metadata": {},
   "outputs": [],
   "source": [
    "# sys.path.append('/work/medicrawl-data-science/projects/004_country_filtering')\n",
    "# from src.evaluating import evaluate_filterers_dataset_labeled"
   ]
  },
  {
   "cell_type": "code",
   "execution_count": 12,
   "metadata": {},
   "outputs": [],
   "source": [
    "import sklearn\n",
    "from sklearn.metrics import accuracy_score, f1_score, precision_score, recall_score\n",
    "import numpy as np\n",
    "import matplotlib.pyplot as plt\n",
    "import pandas as pd\n",
    "import seaborn as sns\n",
    "\n",
    "def get_confusion_matrix(y_true, y_pred_label, kwargs):\n",
    "    fig = plt.figure()\n",
    "\n",
    "    conf_matrix = pd.crosstab(\n",
    "        index=y_true,\n",
    "        columns=y_pred_label,\n",
    "        rownames=[\"True\"],\n",
    "        colnames=[\"Predicted\"],\n",
    "    )\n",
    "\n",
    "    sns.heatmap(conf_matrix, annot=True, fmt=\"d\", cmap=\"Blues\")\n",
    "\n",
    "    plt.xlabel(\"Predicted\")\n",
    "    plt.ylabel(\"Ground Truth\")\n",
    "    plt.title(\"Confusion Matrix\")\n",
    "    plt.show()\n",
    "\n",
    "    return conf_matrix\n",
    "\n",
    "def evaluate_filterers_dataset_labeled(dataset_labeled, **kwargs):\n",
    "    # Assess filtering\n",
    "    ## initialize metrics\n",
    "    metrics = {}\n",
    "    ## compute duration metric\n",
    "    metrics = {\n",
    "        **metrics,\n",
    "        # \"duration\": time_end - time_start,\n",
    "    }\n",
    "    ## compute distribution metrics\n",
    "    metrics = {\n",
    "        **metrics,\n",
    "        \"positives\": dataset_labeled[\"RESULT\"].eq(+1).sum(),\n",
    "        \"unknowns\": dataset_labeled[\"RESULT\"].eq(0).sum(),\n",
    "        \"negatives\": dataset_labeled[\"RESULT\"].eq(-1).sum(),\n",
    "    }\n",
    "    ## compute classification metrics\n",
    "    if \"LABEL\" in dataset_labeled.columns:\n",
    "        # ATTENTION: in \"RESULT\" column there will be no NaN whatever happens because of the astype(bool)\n",
    "        dataset_labeled[\"RESULT\"] = (\n",
    "            dataset_labeled[\"RESULT\"].map({+1: True, 0: False, -1: False}).astype(bool)\n",
    "        )\n",
    "        assert (\n",
    "            dataset_labeled[\"RESULT\"].isna().sum() == 0\n",
    "        ), \"There are NaN values in the RESULT column\"\n",
    "\n",
    "        metrics = {\n",
    "            **metrics,\n",
    "            \"accuracy\": accuracy_score( # sklearn.metrics.\n",
    "                dataset_labeled[\"LABEL\"], dataset_labeled[\"RESULT\"]\n",
    "            ),\n",
    "            \"precision\": precision_score( # sklearn.metrics.\n",
    "                dataset_labeled[\"LABEL\"],\n",
    "                dataset_labeled[\"RESULT\"],\n",
    "                zero_division=np.nan,\n",
    "            ),\n",
    "            \"recall\": recall_score( # sklearn.metrics.\n",
    "                dataset_labeled[\"LABEL\"], dataset_labeled[\"RESULT\"]\n",
    "            ),\n",
    "            \"f1\": f1_score( # sklearn.metrics.\n",
    "                dataset_labeled[\"LABEL\"], dataset_labeled[\"RESULT\"]\n",
    "            ),\n",
    "        }\n",
    "\n",
    "        # Display and save confusion matrix\n",
    "        _ = get_confusion_matrix(\n",
    "            y_true=dataset_labeled[\"LABEL\"],\n",
    "            y_pred_label=dataset_labeled[\"RESULT\"],\n",
    "            kwargs=kwargs,\n",
    "        )\n",
    "\n",
    "    return metrics"
   ]
  },
  {
   "cell_type": "code",
   "execution_count": 13,
   "metadata": {},
   "outputs": [
    {
     "data": {
      "text/plain": [
       "RESULT\n",
       " 1    55\n",
       " 0    15\n",
       "-1     3\n",
       "Name: count, dtype: int64"
      ]
     },
     "execution_count": 13,
     "metadata": {},
     "output_type": "execute_result"
    }
   ],
   "source": [
    "# blob_2024_top_domain_raw_spf[\"shipping_in_swiss\"].value_counts()\n",
    "# blob_2024_top_domain_raw_spf[\"LABEL\"].value_counts()\n",
    "blob_2024_top_domain_raw_spf[\"RESULT\"].value_counts()"
   ]
  },
  {
   "cell_type": "code",
   "execution_count": 14,
   "metadata": {},
   "outputs": [],
   "source": [
    "blob_2024_top_domain_raw_spf[\"LABEL\"] = (\n",
    "    blob_2024_top_domain_raw_spf[\"shipping_in_swiss\"]\n",
    "    .map({\"yes\": True, \"no_info\": False, \"unknown\": False, \"no\": False})\n",
    "    .astype(bool)\n",
    ")"
   ]
  },
  {
   "cell_type": "code",
   "execution_count": 15,
   "metadata": {},
   "outputs": [
    {
     "data": {
      "image/png": "[encoded data removed]",
      "text/plain": [
       "<Figure size 640x480 with 2 Axes>"
      ]
     },
     "metadata": {},
     "output_type": "display_data"
    },
    {
     "data": {
      "text/plain": [
       "{'positives': 55,\n",
       " 'unknowns': 15,\n",
       " 'negatives': 3,\n",
       " 'accuracy': 0.8082191780821918,\n",
       " 'precision': 0.8,\n",
       " 'recall': 0.9361702127659575,\n",
       " 'f1': 0.8627450980392157}"
      ]
     },
     "execution_count": 15,
     "metadata": {},
     "output_type": "execute_result"
    }
   ],
   "source": [
    "evaluate_filterers_dataset_labeled(blob_2024_top_domain_raw_spf)"
   ]
  },
  {
   "cell_type": "markdown",
   "metadata": {},
   "source": [
    "# Main old"
   ]
  },
  {
   "cell_type": "code",
   "execution_count": null,
   "metadata": {},
   "outputs": [],
   "source": [
    "from helpers.context import Context\n",
    "from helpers import utils"
   ]
  },
  {
   "cell_type": "markdown",
   "metadata": {},
   "source": [
    "## Zyte results"
   ]
  },
  {
   "cell_type": "code",
   "execution_count": null,
   "metadata": {},
   "outputs": [],
   "source": [
    "zyte_results = utils.read_json(target_path=\"./data/output/2024-10-17_14-42-34_aspirin_defaultuser\",\n",
    "                               target_file=\"3_extract_zyte.json\")\n",
    "# print(type(zyte_results), zyte_results.keys(), \"\\n\", zyte_results)"
   ]
  },
  {
   "cell_type": "code",
   "execution_count": null,
   "metadata": {},
   "outputs": [],
   "source": [
    "from nightcrawler.base import MetaData, CrawlResultData, PipelineResult\n",
    "zyte_results = PipelineResult(meta=MetaData(zyte_results[\"meta\"]), \n",
    "                              results=[CrawlResultData(offerRoot=dict_results.get(\"OfferRoot\"),\n",
    "                                                       url=dict_results.get(\"url\")) for dict_results in zyte_results[\"results\"]]) # CrawlResultData(zyte_results[\"results\"])"
   ]
  },
  {
   "cell_type": "code",
   "execution_count": null,
   "metadata": {},
   "outputs": [],
   "source": [
    "# Check\n",
    "# print(zyte_results.meta)\n",
    "# print(zyte_results.results)\n",
    "# print(zyte_results.results.url)\n",
    "# print(result.url for result in zyte_results.results)"
   ]
  },
  {
   "cell_type": "markdown",
   "metadata": {},
   "source": [
    "## CountryFilterer"
   ]
  },
  {
   "cell_type": "code",
   "execution_count": null,
   "metadata": {},
   "outputs": [
    {
     "name": "stderr",
     "output_type": "stream",
     "text": [
      "[nltk_data] Downloading package punkt to /root/nltk_data...\n",
      "[nltk_data]   Package punkt is already up-to-date!\n",
      "[nltk_data] Downloading package stopwords to /root/nltk_data...\n",
      "[nltk_data]   Package stopwords is already up-to-date!\n",
      "[nltk_data] Downloading package punkt_tab to /root/nltk_data...\n",
      "[nltk_data]   Package punkt_tab is already up-to-date!\n"
     ]
    }
   ],
   "source": [
    "from nightcrawler.process.s05_country_filterer import CountryFilterer"
   ]
  },
  {
   "cell_type": "code",
   "execution_count": null,
   "metadata": {},
   "outputs": [],
   "source": [
    "from nightcrawler.cli.full_pipeline import apply\n",
    "import argparse\n",
    "# Create the namespace object manually\n",
    "args = argparse.Namespace(reverse_image_search=True, searchitem=\"wasser\", number_of_results=1)\n",
    "apply(args)\n",
    "# python -m nightcrawler fullrun -n=1 wasser"
   ]
  },
  {
   "cell_type": "code",
   "execution_count": null,
   "metadata": {},
   "outputs": [],
   "source": [
    "country_filtering_results = CountryFilterer(context=Context).apply(\n",
    "    previous_step_results=zyte_results # zyte_results_dot_dict # zyte_results\n",
    ")"
   ]
  },
  {
   "cell_type": "markdown",
   "metadata": {},
   "source": [
    "## DeliveryPolicyExtractor"
   ]
  },
  {
   "cell_type": "code",
   "execution_count": null,
   "metadata": {},
   "outputs": [],
   "source": [
    "from nightcrawler.process.s06_delivery_page_detection import DeliveryPolicyExtractor"
   ]
  },
  {
   "cell_type": "markdown",
   "metadata": {},
   "source": [
    "# Old"
   ]
  },
  {
   "cell_type": "code",
   "execution_count": null,
   "metadata": {},
   "outputs": [],
   "source": [
    "# zyte_results_meta = zyte_results[\"meta\"]\n",
    "# print(type(zyte_results_meta), zyte_results_meta.keys(), \"\\n\", zyte_results_meta)\n",
    "\n",
    "# zyte_results_results = zyte_results[\"results\"]\n",
    "# print(type(zyte_results_results), zyte_results_results.keys(), \"\\n\", zyte_results_results)"
   ]
  },
  {
   "cell_type": "code",
   "execution_count": null,
   "metadata": {},
   "outputs": [],
   "source": [
    "# class DotDict(dict):\n",
    "#     def __init__(self, *args, **kwargs):\n",
    "#         super(DotDict, self).__init__(*args, **kwargs)\n",
    "#         for key, value in self.items():\n",
    "#             # Convert sub-dictionaries to DotDict recursively\n",
    "#             if isinstance(value, dict):\n",
    "#                 self[key] = DotDict(value)\n",
    "#             # If value is a list, check for dictionaries and convert them\n",
    "#             elif isinstance(value, list):\n",
    "#                 self[key] = [DotDict(item) if isinstance(item, dict) else item for item in value]\n",
    "\n",
    "#     def __getattr__(self, key):\n",
    "#         try:\n",
    "#             return self[key]\n",
    "#         except KeyError:\n",
    "#             raise AttributeError(f\"Attribute {key} not found\")\n",
    "    \n",
    "#     def __setattr__(self, key, value):\n",
    "#         self[key] = value\n",
    "\n",
    "#     def __delattr__(self, key):\n",
    "#         try:\n",
    "#             del self[key]\n",
    "#         except KeyError:\n",
    "#             raise AttributeError(f\"Attribute {key} not found\")\n"
   ]
  },
  {
   "cell_type": "code",
   "execution_count": null,
   "metadata": {},
   "outputs": [],
   "source": [
    "# zyte_results_doc_dict = DotDict(zyte_results)"
   ]
  },
  {
   "cell_type": "code",
   "execution_count": 6,
   "metadata": {},
   "outputs": [],
   "source": [
    "# delivery_policy_detector = DeliveryPolicyDetector(context=Context)\n",
    "# print(delivery_policy_detector.config)"
   ]
  },
  {
   "cell_type": "code",
   "execution_count": null,
   "metadata": {},
   "outputs": [],
   "source": [
    "# delivery_policy_filtering_results = DeliveryPolicyDetector(context=Context).apply(\n",
    "#     previous_step_results=processor_results\n",
    "# )"
   ]
  },
  {
   "cell_type": "code",
   "execution_count": null,
   "metadata": {},
   "outputs": [],
   "source": [
    "# processor_results = utils.read_json(target_path=\"./data/output/2024-10-11_09-01-35_wasser_defaultuser\", # \"./data/output\"\n",
    "#                                        target_file=\"4_process_raw.json\") # \"04_process_filtered_country.json\"\n",
    "# print(processor_results)"
   ]
  },
  {
   "cell_type": "code",
   "execution_count": null,
   "metadata": {},
   "outputs": [],
   "source": [
    "# delivery_policy_detector = DeliveryPolicyDetector(context=Context)\n",
    "# print(delivery_policy_detector.config)"
   ]
  },
  {
   "cell_type": "code",
   "execution_count": 8,
   "metadata": {},
   "outputs": [],
   "source": [
    "# delivery_policy_filtering_results = DeliveryPolicyDetector(context=Context).apply(\n",
    "#     previous_step_results=processor_results\n",
    "# )"
   ]
  },
  {
   "cell_type": "markdown",
   "metadata": {},
   "source": [
    "# Tests"
   ]
  },
  {
   "cell_type": "code",
   "execution_count": 41,
   "metadata": {},
   "outputs": [],
   "source": [
    "# import abc\n",
    "\n",
    "# class Test(abc.ABC):\n",
    "#     def __init__(self):\n",
    "#         self.text = \"Hello World\"\n",
    "    \n",
    "#     @staticmethod\n",
    "#     def print_message(message):\n",
    "#         print(message)\n",
    "\n",
    "#     def do_smt(self):\n",
    "#         self.print_message(message=\"Test\" + \" \" + self.text)\n",
    "\n",
    "# test = Test()\n",
    "# test.do_smt()"
   ]
  },
  {
   "cell_type": "markdown",
   "metadata": {},
   "source": [
    "# Draft"
   ]
  },
  {
   "cell_type": "code",
   "execution_count": 5,
   "metadata": {},
   "outputs": [],
   "source": [
    "string_test = \"known_domains\" # \"url\"\n",
    "if string_test not in [\"known_domains\", \"unknown\"]:\n",
    "    print(\"Enter condition\")"
   ]
  },
  {
   "cell_type": "code",
   "execution_count": 2,
   "metadata": {},
   "outputs": [],
   "source": [
    "a, b = 1, None # 2\n",
    "if a and b:\n",
    "    print(\"Both are True\")"
   ]
  },
  {
   "cell_type": "code",
   "execution_count": 1,
   "metadata": {},
   "outputs": [
    {
     "name": "stdout",
     "output_type": "stream",
     "text": [
      "test\n"
     ]
    }
   ],
   "source": [
    "if True and not False:\n",
    "    print(\"test\")"
   ]
  },
  {
   "cell_type": "code",
   "execution_count": 1,
   "metadata": {},
   "outputs": [
    {
     "data": {
      "text/html": [
       "<div>\n",
       "<style scoped>\n",
       "    .dataframe tbody tr th:only-of-type {\n",
       "        vertical-align: middle;\n",
       "    }\n",
       "\n",
       "    .dataframe tbody tr th {\n",
       "        vertical-align: top;\n",
       "    }\n",
       "\n",
       "    .dataframe thead th {\n",
       "        text-align: right;\n",
       "    }\n",
       "</style>\n",
       "<table border=\"1\" class=\"dataframe\">\n",
       "  <thead>\n",
       "    <tr style=\"text-align: right;\">\n",
       "      <th></th>\n",
       "      <th>name</th>\n",
       "      <th>age</th>\n",
       "      <th>sex</th>\n",
       "    </tr>\n",
       "  </thead>\n",
       "  <tbody>\n",
       "    <tr>\n",
       "      <th>0</th>\n",
       "      <td>Alice</td>\n",
       "      <td>25.0</td>\n",
       "      <td>NaN</td>\n",
       "    </tr>\n",
       "    <tr>\n",
       "      <th>1</th>\n",
       "      <td>Bob</td>\n",
       "      <td>NaN</td>\n",
       "      <td>M</td>\n",
       "    </tr>\n",
       "  </tbody>\n",
       "</table>\n",
       "</div>"
      ],
      "text/plain": [
       "    name   age  sex\n",
       "0  Alice  25.0  NaN\n",
       "1    Bob   NaN    M"
      ]
     },
     "metadata": {},
     "output_type": "display_data"
    }
   ],
   "source": [
    "import pandas as pd\n",
    "dict_1 = {\"name\": \"Alice\", \"age\": 25}\n",
    "dict_2 = {\"name\": \"Bob\", \"sex\": \"M\"}\n",
    "\n",
    "df = pd.DataFrame([dict_1, dict_2])\n",
    "display(df)"
   ]
  },
  {
   "cell_type": "code",
   "execution_count": 1,
   "metadata": {},
   "outputs": [
    {
     "name": "stdout",
     "output_type": "stream",
     "text": [
      "3\n"
     ]
    }
   ],
   "source": [
    "a = 3 or 4\n",
    "print(a)"
   ]
  },
  {
   "cell_type": "code",
   "execution_count": 3,
   "metadata": {},
   "outputs": [
    {
     "name": "stdout",
     "output_type": "stream",
     "text": [
      "name           Alice\n",
      "age             25.0\n",
      "sex              NaN\n",
      "person_type    human\n",
      "Name: 0, dtype: object\n",
      "name    Bob\n",
      "age     NaN\n",
      "sex       M\n",
      "Name: 1, dtype: object\n"
     ]
    }
   ],
   "source": [
    "for _, row in df.iterrows():\n",
    "    if row[\"name\"] == \"Alice\":\n",
    "        row[\"person_type\"] = \"human\"\n",
    "    print(row)"
   ]
  },
  {
   "cell_type": "code",
   "execution_count": null,
   "metadata": {},
   "outputs": [],
   "source": [
    "# # Example usage\n",
    "# nested_dict = {\n",
    "#     'k1': {'sk1': 1, 'sk2': 2},\n",
    "#     'k2': [{'sk1': 3, 'sk2': 4}, {'sk1': 5, 'sk2': 6}]\n",
    "# }\n",
    "\n",
    "# dot_dict = DotDict(nested_dict)\n",
    "\n",
    "# # Accessing keys and subkeys with dot notation\n",
    "# print(dot_dict.k1.sk1)           # Output: 1\n",
    "# print(dot_dict.k2[0].sk1)        # Output: 3\n",
    "# print(dot_dict.k2[1].sk2)        # Output: 6\n",
    "\n",
    "# # Setting new values\n",
    "# dot_dict.k2[0].sk3 = 7\n",
    "# print(dot_dict.k2[0].sk3)        # Output: 7"
   ]
  },
  {
   "cell_type": "code",
   "execution_count": 38,
   "metadata": {},
   "outputs": [],
   "source": [
    "# class DotDict(dict):\n",
    "#     def __init__(self, *args, **kwargs):\n",
    "#         super(DotDict, self).__init__(*args, **kwargs)\n",
    "#         for key, value in self.items():\n",
    "#             # Convert sub-dictionaries to DotDict recursively\n",
    "#             if isinstance(value, dict):\n",
    "#                 self[key] = DotDict(value)\n",
    "\n",
    "#             # If value is a list, check for dictionaries and convert them\n",
    "#             elif isinstance(value, list):\n",
    "#                 self[key] = [DotDict(item) if isinstance(item, dict) else item for item in value]\n",
    "\n",
    "#     def __getattr__(self, key):\n",
    "#         try:\n",
    "#             return self[key]\n",
    "#         except KeyError:\n",
    "#             raise AttributeError(f\"Attribute {key} not found\")\n",
    "    \n",
    "#     def __setattr__(self, key, value):\n",
    "#         self[key] = value\n",
    "\n",
    "#     def __delattr__(self, key):\n",
    "#         try:\n",
    "#             del self[key]\n",
    "#         except KeyError:\n",
    "#             raise AttributeError(f\"Attribute {key} not found\")\n",
    "        \n",
    "# zyte_results_dot_dict = DotDict(nested_dict=zyte_results)\n",
    "# print(zyte_results_dot_dict.meta)\n"
   ]
  },
  {
   "cell_type": "code",
   "execution_count": 39,
   "metadata": {},
   "outputs": [],
   "source": [
    "# class DotDict(dict):\n",
    "#     def __init__(self, *args, **kwargs):\n",
    "#         super(DotDict, self).__init__(*args, **kwargs)\n",
    "#         for key, value in self.items():\n",
    "#             # Convert sub-dictionaries to DotDict recursively\n",
    "#             if isinstance(value, dict):\n",
    "#                 self[key] = DotDict(value)\n",
    "\n",
    "#             # If value is a list, check for dictionaries and convert them\n",
    "#             elif isinstance(value, list):\n",
    "#                 self[key] = [DotDict(item) if isinstance(item, dict) else item for item in value]\n",
    "\n",
    "#     def __getattr__(self, key):\n",
    "#         try:\n",
    "#             return self[key]\n",
    "#         except KeyError:\n",
    "#             raise AttributeError(f\"Attribute {key} not found\")\n",
    "    \n",
    "#     def __setattr__(self, key, value):\n",
    "#         self[key] = value\n",
    "\n",
    "#     def __delattr__(self, key):\n",
    "#         try:\n",
    "#             del self[key]\n",
    "#         except KeyError:\n",
    "#             raise AttributeError(f\"Attribute {key} not found\")\n",
    "        \n",
    "# zyte_results_dot_dict = DotDict(nested_dict=zyte_results)\n",
    "# print(zyte_results_dot_dict.meta)\n"
   ]
  },
  {
   "cell_type": "code",
   "execution_count": 40,
   "metadata": {},
   "outputs": [],
   "source": [
    "# class DictToObject:\n",
    "#     def __init__(self, dictionary):\n",
    "#         for key, value in dictionary.items():\n",
    "#             if isinstance(value, dict):\n",
    "#                 self.__dict__[key] = DictToObject(value)\n",
    "#             else:\n",
    "#                 self.__dict__[key] = value\n",
    "\n",
    "#     def __repr__(self):\n",
    "#         return f\"{self.__class__.__name__}({self.__dict__})\"\n",
    "\n",
    "# # Example usage\n",
    "# data = {\n",
    "#     'k1': {\n",
    "#         'sk1': 'value1',\n",
    "#         'sk2': 'value2'\n",
    "#     },\n",
    "#     'k2': {\n",
    "#         'sk1': 'value3',\n",
    "#         'sk2': 'value4'\n",
    "#     }\n",
    "# }\n",
    "\n",
    "# obj = DictToObject(data)\n",
    "\n",
    "# # Accessing the values using dot notation\n",
    "# print(obj.k1)  # Output: value1"
   ]
  },
  {
   "cell_type": "code",
   "execution_count": null,
   "metadata": {},
   "outputs": [],
   "source": []
  }
 ],
 "metadata": {
  "kernelspec": {
   "display_name": "env_nw_country_filtering_pipeline",
   "language": "python",
   "name": "python3"
  },
  "language_info": {
   "codemirror_mode": {
    "name": "ipython",
    "version": 3
   },
   "file_extension": ".py",
   "mimetype": "text/x-python",
   "name": "python",
   "nbconvert_exporter": "python",
   "pygments_lexer": "ipython3",
   "version": "3.10.14"
  }
 },
 "nbformat": 4,
 "nbformat_minor": 2
}
